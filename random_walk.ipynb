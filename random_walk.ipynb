{
 "cells": [
  {
   "cell_type": "code",
   "execution_count": null,
   "metadata": {},
   "outputs": [],
   "source": [
    "%matplotlib ipympl\n",
    "# %matplotlib inline\n",
    "\n",
    "import numpy as np\n",
    "import matplotlib.pyplot as plt\n",
    "import matplotlib.animation as animation\n",
    "from mpl_toolkits.mplot3d.art3d import Poly3DCollection\n",
    "from scipy.special import erf\n",
    "\n",
    "from IPython.display import HTML"
   ]
  },
  {
   "cell_type": "code",
   "execution_count": null,
   "metadata": {},
   "outputs": [],
   "source": [
    "# function computing a stochastic trajectory of a single particle\n",
    "# simulation box is defined between 0 and 1 in each direction in arbitrary units\n",
    "def random_walk(num_steps, dt, D, start = \"center\"):\n",
    "    std_dev = np.sqrt(2*D*dt)\n",
    "    if start == \"center\": start_pos = np.ones(3)*0.5 # particle starts at (0.5, 0.5, 0.5)\n",
    "    elif start == \"random\": start_pos = np.random.random(3) # particle starts at random positions\n",
    "    steps = np.random.normal(0.0, std_dev, size=(num_steps, 3)) # random steps are drawn from normal distribution\n",
    "    walk = start_pos + np.cumsum(steps, axis=0) # trajectory is cumulative sum of the random steps\n",
    "    for frame in walk:\n",
    "        for i in range(3):\n",
    "            # if particle exits the box, it is moved to its opposite end (periodic boundary conditions)\n",
    "            while frame[i] > 1.0:\n",
    "                frame[i] -= 1.0\n",
    "            while frame[i] < 0.0:\n",
    "                frame[i] += 1.0\n",
    "    return walk\n",
    "\n",
    "# function updating lines plotted at the animated plot\n",
    "def update_lines(num, walks, lines, ax):\n",
    "    for line, walk in zip(lines, walks):\n",
    "        line.set_data(walk[num-1:num, :2].T)\n",
    "        line.set_3d_properties(walk[num-1:num, 2])\n",
    "        ax.set_title('Time={}'.format(num))\n",
    "    return lines\n",
    "\n",
    "# main function computing stochastic trajectories of a set of particles\n",
    "def perform_bd(num_steps, dt, D, start, num_particles):\n",
    "    return [random_walk(num_steps, dt, D, start) for index in range(num_particles)]\n",
    "\n",
    "# function visualizing stochastic motion of particles\n",
    "def vis(walks):\n",
    "    fig = plt.figure()\n",
    "    ax = fig.add_subplot(projection=\"3d\")\n",
    "    num_steps = np.shape(walks)[1]\n",
    "    lines = [ax.plot([], [], [], 'o')[0] for _ in walks]\n",
    "    ax.set(xlim3d=(0, 1), xlabel='X')\n",
    "    ax.set(ylim3d=(0, 1), ylabel='Y')\n",
    "    ax.set(zlim3d=(0, 1), zlabel='Z')\n",
    "    ani = animation.FuncAnimation(\n",
    "        fig, update_lines, num_steps, fargs=(walks, lines, ax), interval=100)\n",
    "#     ani.save('test.mp4')\n",
    "#     plt.show()\n",
    "    html = HTML(ani.to_jshtml())\n",
    "    display(html)\n",
    "\n",
    "# function counting particles in a given cuboid defined by three pairs of numbers representing three ranges\n",
    "def count_in_subbox(traj, subbox):\n",
    "    num_steps = np.shape(traj)[1]\n",
    "    num_particles = np.shape(traj)[0]\n",
    "    count = np.zeros(num_steps, dtype = int)\n",
    "    for j in range(num_steps):\n",
    "        for k in range(num_particles):\n",
    "            if traj[k][j][0] >= subbox[0][0] and traj[k][j][0] <= subbox[0][1]:\n",
    "                if traj[k][j][1] >= subbox[1][0] and traj[k][j][1] <= subbox[1][1]:\n",
    "                    if traj[k][j][2] >= subbox[2][0] and traj[k][j][2] <= subbox[2][1]:\n",
    "                        count[j] += 1\n",
    "                    else:\n",
    "                        continue\n",
    "                else:\n",
    "                    continue\n",
    "            else:\n",
    "                continue\n",
    "    return count\n",
    "\n",
    "# function visualizing cuboid and concentration in cuboid in time\n",
    "def vis_subbox(subbox_definition, particle_count, num_particles):\n",
    "    fig, ax = plt.subplots()\n",
    "    DefaultSize = fig.get_size_inches()\n",
    "    fig.set_size_inches( (DefaultSize[0], DefaultSize[1]) )\n",
    "    nx=2\n",
    "    ny=2\n",
    "    grid = plt.GridSpec(nrows=ny, ncols=nx, wspace=0.5, hspace=0.7)\n",
    "    axa = plt.subplot(grid[0, 0], projection=\"3d\")\n",
    "    axb = plt.subplot(grid[0, 1])\n",
    "    axc = plt.subplot(grid[1, 0])\n",
    "    axd = plt.subplot(grid[1, 1])\n",
    "    axc.axis('off')\n",
    "    axd.axis('off')\n",
    "    vertices = np.array([[0, 0, 0], [0, 0, 1], [0, 1, 0], [0, 1, 1],\n",
    "    [1, 0, 0], [1, 0, 1], [1, 1, 0], [1, 1, 1]], dtype=int)\n",
    "    vertices = np.array(subbox_definition)[np.arange(3)[np.newaxis, :].repeat(8, axis=0), vertices]\n",
    "    edges = np.array([[0, 1], [0, 2], [0, 4], [1, 3], [1, 5], [2, 3], [2, 6],\n",
    "    [3, 7], [4, 5], [4, 6], [5, 7], [6, 7]], dtype=int)\n",
    "    _ = axa.set_xlim((0,1))\n",
    "    _ = axa.set_ylim((0,1))\n",
    "    _ = axa.set_zlim((0,1))\n",
    "    _ = axa.set_xlabel('X')\n",
    "    _ = axa.set_ylabel('Y')\n",
    "    _ = axa.set_zlabel('Z')\n",
    "#     _ = axa.plot(*vertices.T, 'o', color = 'red')\n",
    "    for i, j in edges:\n",
    "        _ = axa.plot(*vertices[[i, j], :].T, color='r', ls='-')\n",
    "    _ = axb.set_ylim((-10, num_particles+10))\n",
    "    _ = axb.set_xlabel('Time')\n",
    "    _ = axb.set_ylabel('Particle count')\n",
    "    _ = axb.plot(particle_count)\n",
    "    \n",
    "def write_xyz_to_file(traj, filename):\n",
    "    with open(filename, 'w') as output_file:\n",
    "        for n_timestep in range(len(traj[0])):\n",
    "            output_file.write('{}\\n'.format(len(traj)))\n",
    "            output_file.write('{} timestep {}\\n'.format(filename, n_timestep+1))\n",
    "            for n_particle in range(len(traj)):\n",
    "                output_file.write('X{} {} {} {}\\n'.format(n_particle+1, *traj[n_particle][n_timestep]))        "
   ]
  },
  {
   "cell_type": "markdown",
   "metadata": {},
   "source": [
    "# Task 1\n",
    "We initialize the simulation by placing particles in the center of simulation box. Then, their trajectories are computed using a following scheme:\n",
    "$$\\boldsymbol{r}\\left(t+\\Delta t\\right) = \\boldsymbol{r}\\left(t \\right) + \\sqrt{2 D \\Delta t} \\boldsymbol{X} ,$$\n",
    "where $\\boldsymbol{r}$ is particle's position, $t$ is time, $\\Delta t$ is simulation timestep, $D$ is particle's diffusion coefficient, and $\\boldsymbol{X}$ is three-dimensional vector, components of which are standard normal random variables (of zero mean and unit variance)."
   ]
  },
  {
   "cell_type": "code",
   "execution_count": null,
   "metadata": {},
   "outputs": [],
   "source": [
    "plt.close()\n",
    "np.random.seed(19680801) # seed used to initialize pseudorandom number generator\n",
    "# same seed means same random numbers!\n",
    "num_particles = 200 # number of diffusing particles\n",
    "num_steps = 10000 # number of steps in simulation\n",
    "dt = 1 # size of the timestep in arbitrary units\n",
    "D = 0.0000001 # diffusion coefficient in length units squared per time units\n",
    "# (length is defined relative to box size)\n",
    "traj = perform_bd(num_steps=num_steps, dt = dt, D = D, start=\"center\", num_particles=num_particles)\n",
    "plot_every_N_steps = 100 # we cannot visualize every simulation step, because it quickly becomes too memory-consuming\n",
    "# so in animated figure, we show only timeframes being multiples of N\n",
    "vis(np.array(traj)[:,::plot_every_N_steps,:])\n",
    "# we can write xyz file with the trajectories of simulated particles\n",
    "# write_xyz_to_file(traj, 'task1.xyz')"
   ]
  },
  {
   "cell_type": "markdown",
   "metadata": {},
   "source": [
    "To compare theoretical expressions and the simulations, we are going to trace how the number of particles in a small cetrally positioned cuboid changes in time."
   ]
  },
  {
   "cell_type": "code",
   "execution_count": null,
   "metadata": {},
   "outputs": [],
   "source": [
    "plt.close()\n",
    "subbox_definition = np.array([[0.49, 0.51], [0.49, 0.51], [0.49, 0.51]]) # here we define the cuboid in which we are going to compute the number of particles vs time\n",
    "count = count_in_subbox(traj, subbox_definition) # here we compute number of particles in the cuboid vs time\n",
    "vis_subbox(subbox_definition, count, num_particles) # here we visualize the cuboid and the number of particles in it vs time\n",
    "# last argument is the total number of particles, which allows to set the range of y axis"
   ]
  },
  {
   "cell_type": "markdown",
   "metadata": {},
   "source": [
    "Theoretically, assuming infinite box (which is reasonable, as in the course of simulation particles do not approach the box edges), the particle density diffusing from a point source at $x_0 = (0,0,0)$ spreads in a following war:\n",
    "$$n_\\mathrm{particles}\\left(t;x,y,z\\right) = N_\\mathrm{particles} \\left( 4\\pi D t \\right)^{-3/2} \\exp \\left[ -\\frac{x^2 + y^2 + z^2}{4Dt} \\right] . $$\n",
    "To obtain the number of particles in a finite cuboid, we intefrate the formula above to obtain:\n",
    "$$N_\\mathrm{particles}\\left( t; x_1, x_2, y_1, y_2, z_1, z_2 \\right) = \\left( \\frac{1}{2} \\right)^3 N_\\mathrm{particles} \\cdot \\left[ \\mathrm{erf}\\left( \\frac{x_2-0.5}{\\sqrt{4Dt}} \\right) - \\mathrm{erf}\\left( \\frac{x_1-0.5}{\\sqrt{4Dt}} \\right] \\right) \\cdot \\left[ \\mathrm{erf}\\left( \\frac{y_2-0.5}{\\sqrt{4Dt}} \\right) - \\mathrm{erf}\\left( \\frac{y_1-0.5}{\\sqrt{4Dt}} \\right) \\right] \\cdot \\left[ \\mathrm{erf}\\left( \\frac{z_2-0.5}{\\sqrt{4Dt}} \\right) - \\mathrm{erf}\\left( \\frac{z_1-0.5}{\\sqrt{4Dt}} \\right) \\right] $$\n",
    "where $x_1, x_2, y_1, y_2, z_1, z_2$ are limits of ranges defining the cuboid, $N_\\mathrm{particles}$ is the total number of particles in whole simulation box, and $\\mathrm{erf}$ is the [error function](https://en.wikipedia.org/wiki/Error_function). We are going to compare the results of the expression above and the simulations."
   ]
  },
  {
   "cell_type": "code",
   "execution_count": null,
   "metadata": {},
   "outputs": [],
   "source": [
    "_ = plt.close()\n",
    "t = np.arange(1, len(count)+1)\n",
    "theory = num_particles/8 * ( erf((subbox_definition[0][1]-0.5)/np.sqrt(4*D*t*dt)) - erf((subbox_definition[0][0]-0.5)/np.sqrt(4*D*t*dt)) ) \\\n",
    "                         * ( erf((subbox_definition[1][1]-0.5)/np.sqrt(4*D*t*dt)) - erf((subbox_definition[1][0]-0.5)/np.sqrt(4*D*t*dt)) ) \\\n",
    "                         * ( erf((subbox_definition[2][1]-0.5)/np.sqrt(4*D*t*dt)) - erf((subbox_definition[2][0]-0.5)/np.sqrt(4*D*t*dt)) )\n",
    "_ = plt.plot(t, theory, '-', color = 'red', label = 'theory')\n",
    "_ = plt.plot(t, count, ':', color = 'black', label = 'sim.')\n",
    "_ = plt.legend()\n",
    "_ = plt.xlabel('Time')\n",
    "_ = plt.ylabel('Particle count')"
   ]
  },
  {
   "cell_type": "markdown",
   "metadata": {},
   "source": [
    "# Task 2\n",
    "We now increase the diffusion coefficient slightly, and monitor the number of particles in a cuboid, which initially does not contain any."
   ]
  },
  {
   "cell_type": "code",
   "execution_count": null,
   "metadata": {
    "scrolled": true
   },
   "outputs": [],
   "source": [
    "plt.close()\n",
    "np.random.seed(93843734)\n",
    "num_particles = 600 # number of particles is larger now\n",
    "num_steps = 10000\n",
    "dt = 1\n",
    "D = 0.000005 # the diffusion coefficients is now 500 times higher than intially\n",
    "traj = perform_bd(num_steps=num_steps, dt = dt, D = D, start=\"center\", num_particles=num_particles)\n",
    "plot_every_N_steps = 100\n",
    "vis(np.array(traj)[:,::plot_every_N_steps,:])\n",
    "# write_xyz_to_file(traj, 'task2.xyz')"
   ]
  },
  {
   "cell_type": "code",
   "execution_count": null,
   "metadata": {},
   "outputs": [],
   "source": [
    "plt.close()\n",
    "subbox_definition = np.array([[0.3, 0.45], [0.3, 0.45], [0.45, 0.55]])\n",
    "count = count_in_subbox(traj, subbox_definition)\n",
    "vis_subbox(subbox_definition, count, num_particles)"
   ]
  },
  {
   "cell_type": "code",
   "execution_count": null,
   "metadata": {
    "scrolled": true
   },
   "outputs": [],
   "source": [
    "_ = plt.close()\n",
    "t = np.arange(1, len(count)+1)\n",
    "theory = num_particles/8 * ( erf((subbox_definition[0][1]-0.5)/np.sqrt(4*D*t*dt)) - erf((subbox_definition[0][0]-0.5)/np.sqrt(4*D*t*dt)) ) \\\n",
    "                         * ( erf((subbox_definition[1][1]-0.5)/np.sqrt(4*D*t*dt)) - erf((subbox_definition[1][0]-0.5)/np.sqrt(4*D*t*dt)) ) \\\n",
    "                         * ( erf((subbox_definition[2][1]-0.5)/np.sqrt(4*D*t*dt)) - erf((subbox_definition[2][0]-0.5)/np.sqrt(4*D*t*dt)) )\n",
    "_ = plt.plot(t, theory, '-', color = 'red', label = 'theory')\n",
    "_ = plt.plot(t, count, ':', color = 'black', label = 'sim.')\n",
    "_ = plt.legend()\n",
    "_ = plt.xlabel('Time')\n",
    "_ = plt.ylabel('Particle count')"
   ]
  },
  {
   "cell_type": "markdown",
   "metadata": {},
   "source": [
    "Let's now repeat simulation a few times and average the results to acquire better stattisics, i.e., less noisy line."
   ]
  },
  {
   "cell_type": "code",
   "execution_count": null,
   "metadata": {},
   "outputs": [],
   "source": [
    "plt.close()\n",
    "np.random.seed(101)\n",
    "traj1 = perform_bd(num_steps=num_steps, dt = dt, D = D, start=\"center\", num_particles=num_particles)\n",
    "np.random.seed(301)\n",
    "traj2 = perform_bd(num_steps=num_steps, dt = dt, D = D, start=\"center\", num_particles=num_particles)\n",
    "np.random.seed(501)\n",
    "traj3 = perform_bd(num_steps=num_steps, dt = dt, D = D, start=\"center\", num_particles=num_particles)\n",
    "np.random.seed(701)\n",
    "traj4 = perform_bd(num_steps=num_steps, dt = dt, D = D, start=\"center\", num_particles=num_particles)\n",
    "np.random.seed(901)\n",
    "traj5 = perform_bd(num_steps=num_steps, dt = dt, D = D, start=\"center\", num_particles=num_particles)\n",
    "counts = [ count_in_subbox(t, subbox_definition) for t in [traj, traj1, traj2, traj3, traj4, traj5] ]"
   ]
  },
  {
   "cell_type": "code",
   "execution_count": null,
   "metadata": {},
   "outputs": [],
   "source": [
    "_ = plt.close()\n",
    "t = np.arange(1, len(count)+1)\n",
    "theory = num_particles/8 * ( erf((subbox_definition[0][1]-0.5)/np.sqrt(4*D*t*dt)) - erf((subbox_definition[0][0]-0.5)/np.sqrt(4*D*t*dt)) ) \\\n",
    "                         * ( erf((subbox_definition[1][1]-0.5)/np.sqrt(4*D*t*dt)) - erf((subbox_definition[1][0]-0.5)/np.sqrt(4*D*t*dt)) ) \\\n",
    "                         * ( erf((subbox_definition[2][1]-0.5)/np.sqrt(4*D*t*dt)) - erf((subbox_definition[2][0]-0.5)/np.sqrt(4*D*t*dt)) )\n",
    "_ = plt.plot(t, theory, '-', color = 'red', label = 'theory')\n",
    "_ = plt.plot(t, np.mean(counts, axis=0), ':', color = 'black', label = 'sim. (mean)')\n",
    "_ = plt.legend()\n",
    "_ = plt.xlabel('Time')\n",
    "_ = plt.ylabel('Particle count')"
   ]
  },
  {
   "cell_type": "markdown",
   "metadata": {},
   "source": [
    "# Task 3\n",
    "Now, we increase the diffusion coefficient, so that the particles reach the boundary and mix well. If particles exits the box from one side, it appears at the opposite side (so-called periodic boundary conditions)."
   ]
  },
  {
   "cell_type": "code",
   "execution_count": null,
   "metadata": {},
   "outputs": [],
   "source": [
    "plt.close()\n",
    "np.random.seed(4383743)\n",
    "num_particles = 200\n",
    "num_steps = 10000\n",
    "dt = 1\n",
    "D = 0.0001 # the diffusion coefficients is now 1000 times higher than initially\n",
    "traj = perform_bd(num_steps=num_steps, dt = dt, D = D, start=\"center\", num_particles=num_particles)\n",
    "plot_every_N_steps = 100\n",
    "vis(np.array(traj)[:,::plot_every_N_steps,:])\n",
    "# write_xyz_to_file(traj, 'task3.xyz')"
   ]
  },
  {
   "cell_type": "code",
   "execution_count": null,
   "metadata": {},
   "outputs": [],
   "source": [
    "plt.close()\n",
    "subbox_definition = np.array([[0.5, 1.0], [0.0, 0.5], [0.0, 1.0]])\n",
    "count = count_in_subbox(traj, subbox_definition)\n",
    "vis_subbox(subbox_definition, count, num_particles)"
   ]
  },
  {
   "cell_type": "markdown",
   "metadata": {},
   "source": [
    "If the particles are well-mixed, the number of particles in a given cuboid is equal to the ratio of the cuboid's volume to the box volume."
   ]
  },
  {
   "cell_type": "code",
   "execution_count": null,
   "metadata": {},
   "outputs": [],
   "source": [
    "_ = plt.close()\n",
    "volume = (subbox_definition[0][1]-subbox_definition[0][0])*(subbox_definition[1][1]-subbox_definition[1][0])*(subbox_definition[2][1]-subbox_definition[2][0])\n",
    "theory = num_particles * volume * np.ones(len(count))\n",
    "_ = plt.plot(t, theory, '-', color = 'red', label = 'theory')\n",
    "_ = plt.plot(t, count, ':', color = 'black', label = 'sim.')\n",
    "_ = plt.legend()\n",
    "_ = plt.xlabel('Time')\n",
    "_ = plt.ylabel('Particle count')"
   ]
  },
  {
   "cell_type": "code",
   "execution_count": null,
   "metadata": {},
   "outputs": [],
   "source": []
  }
 ],
 "metadata": {
  "kernelspec": {
   "display_name": "Python 3",
   "language": "python",
   "name": "python3"
  },
  "language_info": {
   "codemirror_mode": {
    "name": "ipython",
    "version": 3
   },
   "file_extension": ".py",
   "mimetype": "text/x-python",
   "name": "python",
   "nbconvert_exporter": "python",
   "pygments_lexer": "ipython3",
   "version": "3.7.9"
  },
  "latex_envs": {
   "LaTeX_envs_menu_present": true,
   "autoclose": true,
   "autocomplete": true,
   "bibliofile": "biblio.bib",
   "cite_by": "apalike",
   "current_citInitial": 1,
   "eqLabelWithNumbers": true,
   "eqNumInitial": 1,
   "hotkeys": {
    "equation": "Ctrl-E",
    "itemize": "Ctrl-I"
   },
   "labels_anchors": false,
   "latex_user_defs": false,
   "report_style_numbering": false,
   "user_envs_cfg": false
  }
 },
 "nbformat": 4,
 "nbformat_minor": 1
}
