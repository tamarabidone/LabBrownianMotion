{
 "cells": [
  {
   "cell_type": "markdown",
   "id": "f4e4b87d",
   "metadata": {},
   "source": [
    "### Run the first cell only when in Google Colab"
   ]
  },
  {
   "cell_type": "code",
   "execution_count": null,
   "id": "b2689764",
   "metadata": {},
   "outputs": [],
   "source": [
    "# !pip3 install ipympl\n",
    "# !pip3 install pygrpy==0.1.3\n",
    "# !pip3 install MDanalysis\n",
    "# from google.colab import output\n",
    "# output.enable_custom_widget_manager()"
   ]
  },
  {
   "cell_type": "markdown",
   "id": "ed0140fd",
   "metadata": {},
   "source": [
    "The code below is the same as in the materials from previous classes."
   ]
  },
  {
   "cell_type": "code",
   "execution_count": null,
   "id": "9ce4bfb3",
   "metadata": {},
   "outputs": [],
   "source": [
    "%matplotlib ipympl\n",
    "# %matplotlib inline\n",
    "\n",
    "import numpy as np\n",
    "import matplotlib.pyplot as plt\n",
    "import matplotlib.animation as animation\n",
    "from mpl_toolkits.mplot3d.art3d import Poly3DCollection\n",
    "from scipy.special import erf\n",
    "\n",
    "from IPython.display import HTML\n",
    "from IPython.display import YouTubeVideo\n",
    "from IPython.display import Image"
   ]
  },
  {
   "cell_type": "code",
   "execution_count": null,
   "id": "53470218",
   "metadata": {},
   "outputs": [],
   "source": [
    "# function computing a stochastic trajectory of a single particle\n",
    "def random_walk(num_steps, dt, D, start, box_length):\n",
    "    std_dev = np.sqrt(2*D*dt)\n",
    "    if start == \"center\": start_pos = np.ones(3)*0.5*box_length # particle starts at box center\n",
    "    elif start == \"random\": start_pos = np.random.random(3)*box_length # particle starts at random position\n",
    "    steps = np.random.normal(0.0, std_dev, size=(num_steps, 3)) # random steps are drawn from normal distribution\n",
    "    walk = start_pos + np.cumsum(steps, axis=0) # trajectory is a cumulative sum of the random steps\n",
    "    for frame in walk:\n",
    "        for i in range(3):\n",
    "            # if particle exits the box, it is moved to its opposite end (periodic boundary conditions)\n",
    "            while frame[i] > box_length:\n",
    "                frame[i] -= box_length\n",
    "            while frame[i] < 0.0:\n",
    "                frame[i] += box_length\n",
    "    return walk\n",
    "\n",
    "# function updating lines plotted at the animated plot\n",
    "def update_lines(num, walks, dt, lines, ax):\n",
    "    for line, walk in zip(lines, walks):\n",
    "        line.set_data(walk[num-1:num, :2].T)\n",
    "        line.set_3d_properties(walk[num-1:num, 2])\n",
    "        ax.set_title('Time={} ps'.format(num*dt))\n",
    "    return lines\n",
    "\n",
    "# main function computing stochastic trajectories of a set of particles\n",
    "def perform_bd(num_steps, dt, D, start, num_particles, box_length):\n",
    "    return [random_walk(num_steps, dt, D, start, box_length) for index in range(num_particles)]\n",
    "\n",
    "# function visualizing stochastic motion of particles\n",
    "def vis(walks, dt, box_length):\n",
    "    fig = plt.figure()\n",
    "    ax = fig.add_subplot(projection=\"3d\")\n",
    "    num_steps = np.shape(walks)[1]\n",
    "    lines = [ax.plot([], [], [], 'o')[0] for _ in walks]\n",
    "    ax.set(xlim3d=(0, box_length), xlabel='X (nm)')\n",
    "    ax.set(ylim3d=(0, box_length), ylabel='Y (nm)')\n",
    "    ax.set(zlim3d=(0, box_length), zlabel='Z (nm)')\n",
    "    ani = animation.FuncAnimation(\n",
    "        fig, update_lines, num_steps, fargs=(walks, dt, lines, ax), interval=100)\n",
    "#     ani.save('test.mp4')\n",
    "#     plt.show()\n",
    "    html = HTML(ani.to_jshtml())\n",
    "    display(html)\n",
    "\n",
    "# function counting particles in a given cuboid defined by three pairs of numbers representing three ranges\n",
    "def count_in_subbox(traj, subbox):\n",
    "    num_steps = np.shape(traj)[1]\n",
    "    num_particles = np.shape(traj)[0]\n",
    "    count = np.zeros(num_steps, dtype = int)\n",
    "    for j in range(num_steps):\n",
    "        for k in range(num_particles):\n",
    "            if traj[k][j][0] >= subbox[0][0] and traj[k][j][0] <= subbox[0][1]:\n",
    "                if traj[k][j][1] >= subbox[1][0] and traj[k][j][1] <= subbox[1][1]:\n",
    "                    if traj[k][j][2] >= subbox[2][0] and traj[k][j][2] <= subbox[2][1]:\n",
    "                        count[j] += 1\n",
    "                    else:\n",
    "                        continue\n",
    "                else:\n",
    "                    continue\n",
    "            else:\n",
    "                continue\n",
    "    return count\n",
    "\n",
    "# function visualizing cuboid and concentration in cuboid in time\n",
    "def vis_subbox(subbox_definition, particle_count, num_particles, dt, box_length):\n",
    "    fig, ax = plt.subplots()\n",
    "    DefaultSize = fig.get_size_inches()\n",
    "    fig.set_size_inches( (DefaultSize[0], DefaultSize[1]) )\n",
    "    nx=2\n",
    "    ny=2\n",
    "    grid = plt.GridSpec(nrows=ny, ncols=nx, wspace=0.5, hspace=0.7)\n",
    "    axa = plt.subplot(grid[0, 0], projection=\"3d\")\n",
    "    axb = plt.subplot(grid[0, 1])\n",
    "    axc = plt.subplot(grid[1, 0])\n",
    "    axd = plt.subplot(grid[1, 1])\n",
    "    axc.axis('off')\n",
    "    axd.axis('off')\n",
    "    vertices = np.array([[0, 0, 0], [0, 0, 1], [0, 1, 0], [0, 1, 1],\n",
    "    [1, 0, 0], [1, 0, 1], [1, 1, 0], [1, 1, 1]], dtype=int)\n",
    "    vertices = np.array(subbox_definition)[np.arange(3)[np.newaxis, :].repeat(8, axis=0), vertices]\n",
    "    edges = np.array([[0, 1], [0, 2], [0, 4], [1, 3], [1, 5], [2, 3], [2, 6],\n",
    "    [3, 7], [4, 5], [4, 6], [5, 7], [6, 7]], dtype=int)\n",
    "    _ = axa.set_xlim((0,box_length))\n",
    "    _ = axa.set_ylim((0,box_length))\n",
    "    _ = axa.set_zlim((0,box_length))\n",
    "    _ = axa.set_xlabel('X (nm)')\n",
    "    _ = axa.set_ylabel('Y (nm)')\n",
    "    _ = axa.set_zlabel('Z (nm)')\n",
    "#     _ = axa.plot(*vertices.T, 'o', color = 'red')\n",
    "    for i, j in edges:\n",
    "        _ = axa.plot(*vertices[[i, j], :].T, color='r', ls='-')\n",
    "    _ = axb.set_ylim((-10, num_particles+10))\n",
    "    _ = axb.set_xlabel('Time (ps)')\n",
    "    _ = axb.set_ylabel('Particle count')\n",
    "    _ = axb.plot(dt*np.arange(1,len(particle_count)+1), particle_count)\n",
    "    \n",
    "def write_xyz_to_file(traj, filename, dt):\n",
    "    with open(filename, 'w') as output_file:\n",
    "        for n_timestep in range(len(traj[0])):\n",
    "            output_file.write('{}\\n'.format(len(traj)))\n",
    "            output_file.write('{} time {} ps\\n'.format(filename, (n_timestep+1)*dt))\n",
    "            for n_particle in range(len(traj)):\n",
    "                output_file.write('X{} {} {} {}\\n'.format(n_particle+1, *traj[n_particle][n_timestep]))        "
   ]
  },
  {
   "cell_type": "markdown",
   "id": "30d57d8c",
   "metadata": {},
   "source": [
    "# Mean squared displacement"
   ]
  },
  {
   "cell_type": "markdown",
   "id": "fa1207c2",
   "metadata": {},
   "source": [
    "The purpose of today's classes is to learn to characterize the Brownian (and non-Brownian) motion quantitatively. The theoretical prediction due to Einstein is that the increase in Mean Squared Displacement ($\\mathrm{MSD}(t) = \\langle \\vert\\mathbf{r}(t)-\\mathbf{r}(0)\\vert^2 \\rangle$) of independent $d$-dimensional Brownian particles is linear ($\\mathrm{MSD}(t)=2dDt$). But be careful, this is true only in a limit of infinite number of particles. In reality, you can expect some deviations from linearity in a form of noise, with magnitude depending on how many particles contribute to the average."
   ]
  },
  {
   "cell_type": "code",
   "execution_count": null,
   "id": "4e52a942",
   "metadata": {},
   "outputs": [],
   "source": [
    "plt.close()\n",
    "np.random.seed(43673826) # seed used to initialize pseudorandom number generator\n",
    "# same seed means same random numbers!\n",
    "box_length = 20.0 # length of the simulation cubic box side in nanometers\n",
    "num_particles = 50 # number of diffusing particles\n",
    "num_steps = 10000 # number of steps in simulation\n",
    "dt = 1 # size of the timestep in picoseconds\n",
    "ts = dt*np.arange(num_steps)\n",
    "D = 0.00004 # diffusion coefficient in nanometer squared per picosecond\n",
    "traj = perform_bd(num_steps=num_steps, dt = dt, D = D, start=\"center\", num_particles=num_particles, box_length = box_length)\n",
    "plot_every_N_steps = 100 # we cannot visualize every simulation step, because it quickly becomes too memory-consuming\n",
    "# so in animated figure, we show only timeframes being multiples of N\n",
    "vis(np.array(traj)[:,::plot_every_N_steps,:], dt*plot_every_N_steps, box_length)\n",
    "# we can write xyz file with the trajectories of simulated particles\n",
    "# write_xyz_to_file(traj, 'task1.xyz', dt)"
   ]
  },
  {
   "cell_type": "markdown",
   "id": "201d499f",
   "metadata": {},
   "source": [
    "To analyze the trajectories, I wrote the functions computing MSD and TAMSD implementing the equations presented below. I do not provide the code though, you need to implement it yourself to solve the assignment.\n",
    "\n",
    "$$\\mathrm{MSD} ( t = m \\Delta t ) = \\frac{1}{N_{\\mathrm{part}}} \\sum_{i = \n",
    "    1}^{N_{\\mathrm{part}}} \\vert \\boldsymbol{r}_i \\left[ m \\Delta t \\right] -  \\boldsymbol{r}_i \\left[ 0 \\right] \\vert^2  $$\n",
    "    \n",
    "$$\\mathrm{TAMSD} ( t = m \\Delta t ) = \\frac{1}{N_{\\mathrm{part}}} \\sum_{i = \n",
    "    1}^{N_{\\mathrm{part}}} \\frac{1}{N_{\\mathrm{steps}}-m} \\sum_{k = \n",
    "    0}^{N_{\\mathrm{steps}}-m-1} \\vert \\boldsymbol{r}_i \\left[ ( k + m ) \\Delta t \\right] - \\boldsymbol{r}_i \\left[ k \\Delta t \\right] \\vert^2$$"
   ]
  },
  {
   "cell_type": "code",
   "execution_count": null,
   "id": "545a0e29",
   "metadata": {},
   "outputs": [],
   "source": [
    "import dill as pickle\n",
    "with open('mystery.rst', 'rb', buffering = 0) as restart_file:\n",
    "    compute_msd = pickle.load(restart_file)\n",
    "    compute_tamsd = pickle.load(restart_file)\n",
    "    compute_msd_pbc = pickle.load(restart_file)\n",
    "    compute_tamsd_pbc = pickle.load(restart_file)"
   ]
  },
  {
   "cell_type": "code",
   "execution_count": null,
   "id": "6451b49c",
   "metadata": {},
   "outputs": [],
   "source": [
    "msd_all = compute_msd(traj)\n",
    "tamsd_all = compute_tamsd(traj, stride=100)"
   ]
  },
  {
   "cell_type": "code",
   "execution_count": null,
   "id": "54165116",
   "metadata": {
    "scrolled": false
   },
   "outputs": [],
   "source": [
    "_ = plt.close()\n",
    "_ = plt.title(r'$N_\\mathrm{part}$'+'={}'.format(num_particles))\n",
    "_ = plt.plot(ts, msd_all, '-', label = 'MSD all particles', color = 'black')\n",
    "_ = plt.plot(ts[::100], tamsd_all, '-', label = 'TAMSD all particles', color = 'red')\n",
    "_ = plt.plot(ts, compute_msd([traj[6]]), '--', label = 'MSD example particle', color = 'black')\n",
    "_ = plt.plot(ts[::100], compute_tamsd([traj[6]], stride=100), '--', label = 'TAMSD example particle', color = 'red')\n",
    "_ = plt.plot(ts, 6*D*ts, ':', label = r'theory ($6Dt$)')\n",
    "_ = plt.xlabel('Time (ps)')\n",
    "_ = plt.ylabel('MSD (nm$^2$)')\n",
    "_ = plt.legend()"
   ]
  },
  {
   "cell_type": "markdown",
   "id": "191b574d",
   "metadata": {},
   "source": [
    "Running the same simulation with larger number of particles in the simulation box results in much better alignment with the theory (see below)."
   ]
  },
  {
   "cell_type": "code",
   "execution_count": null,
   "id": "749f73c0",
   "metadata": {},
   "outputs": [],
   "source": [
    "plt.close()\n",
    "np.random.seed(78548734) # seed used to initialize pseudorandom number generator\n",
    "# same seed means same random numbers!\n",
    "box_length = 20.0 # length of the simulation cubic box side in nanometers\n",
    "num_particles = 600 # number of diffusing particles\n",
    "num_steps = 10000 # number of steps in simulation\n",
    "dt = 1 # size of the timestep in picoseconds\n",
    "ts = dt*np.arange(num_steps)\n",
    "D = 0.00004 # diffusion coefficient in nanometer squared per picosecond\n",
    "traj_more = perform_bd(num_steps=num_steps, dt = dt, D = D, start=\"center\", num_particles=num_particles, box_length = box_length)\n",
    "plot_every_N_steps = 100 # we cannot visualize every simulation step, because it quickly becomes too memory-consuming\n",
    "# so in animated figure, we show only timeframes being multiples of N\n",
    "vis(np.array(traj_more)[:,::plot_every_N_steps,:], dt*plot_every_N_steps, box_length)\n",
    "# we can write xyz file with the trajectories of simulated particles\n",
    "# write_xyz_to_file(traj, 'task1.xyz', dt)"
   ]
  },
  {
   "cell_type": "code",
   "execution_count": null,
   "id": "5ab780dd",
   "metadata": {},
   "outputs": [],
   "source": [
    "msd_all_more = compute_msd(traj_more)\n",
    "tamsd_all_more = compute_tamsd(traj_more, stride=100)"
   ]
  },
  {
   "cell_type": "code",
   "execution_count": null,
   "id": "f97bdac0",
   "metadata": {},
   "outputs": [],
   "source": [
    "_ = plt.close()\n",
    "_ = plt.title(r'$N_\\mathrm{part}$'+'={}'.format(num_particles))\n",
    "_ = plt.plot(ts, msd_all, '-', label = 'MSD less particles', color = 'black')\n",
    "_ = plt.plot(ts, msd_all_more, '--', label = 'MSD more particles', color = 'black')\n",
    "_ = plt.plot(ts[::100], tamsd_all, '-', label = 'TAMSD less particles', color = 'red')\n",
    "_ = plt.plot(ts[::100], tamsd_all_more, '--', label = 'TAMSD more particles', color = 'red')\n",
    "_ = plt.plot(ts, 6*D*ts, ':', label = r'theory ($6Dt$)')\n",
    "_ = plt.xlabel('Time (ps)')\n",
    "_ = plt.ylabel('MSD (nm$^2$)')\n",
    "_ = plt.legend()"
   ]
  },
  {
   "cell_type": "markdown",
   "id": "48322b96",
   "metadata": {},
   "source": [
    "# Periodic boundary conditions"
   ]
  },
  {
   "cell_type": "markdown",
   "id": "74dd63a2",
   "metadata": {},
   "source": [
    "Below, in contrast to all previous simulations, the particles start from random positions. Hence their dynamics resembles the experiments with pollen."
   ]
  },
  {
   "cell_type": "code",
   "execution_count": null,
   "id": "d173e9d9",
   "metadata": {},
   "outputs": [],
   "source": [
    "YouTubeVideo('R5t-oA796to')"
   ]
  },
  {
   "cell_type": "code",
   "execution_count": null,
   "id": "b50c5a48",
   "metadata": {},
   "outputs": [],
   "source": [
    "plt.close()\n",
    "np.random.seed(4354534) # seed used to initialize pseudorandom number generator\n",
    "# same seed means same random numbers!\n",
    "box_length = 20.0 # length of the simulation cubic box side in nanometers\n",
    "num_particles = 200 # number of diffusing particles\n",
    "num_steps = 10000 # number of steps in simulation\n",
    "dt = 1 # size of the timestep in picoseconds\n",
    "ts = dt*np.arange(num_steps)\n",
    "D = 0.00004 # diffusion coefficient in nanometer squared per picosecond\n",
    "traj = perform_bd(num_steps=num_steps, dt = dt, D = D, start=\"random\", num_particles=num_particles, box_length = box_length)\n",
    "plot_every_N_steps = 100 # we cannot visualize every simulation step, because it quickly becomes too memory-consuming\n",
    "# so in animated figure, we show only timeframes being multiples of N\n",
    "vis(np.array(traj)[:,::plot_every_N_steps,:], dt*plot_every_N_steps, box_length)\n",
    "# we can write xyz file with the trajectories of simulated particles\n",
    "# write_xyz_to_file(traj, 'task1.xyz', dt)"
   ]
  },
  {
   "cell_type": "code",
   "execution_count": null,
   "id": "06c9963e",
   "metadata": {},
   "outputs": [],
   "source": [
    "msd_all = compute_msd(traj)\n",
    "tamsd_all = compute_tamsd(traj, stride=100)"
   ]
  },
  {
   "cell_type": "code",
   "execution_count": null,
   "id": "12224607",
   "metadata": {
    "scrolled": false
   },
   "outputs": [],
   "source": [
    "_ = plt.close()\n",
    "_ = plt.title('N={}'.format(num_particles))\n",
    "_ = plt.plot(ts, msd_all, '-', label = 'MDS all particles', color = 'black')\n",
    "_ = plt.plot(ts[::100], tamsd_all, '-', label = 'TAMSD all particles', color = 'red')\n",
    "_ = plt.plot(ts, compute_msd([traj[6]]), '--', label = 'MSD example particle', color = 'black')\n",
    "_ = plt.plot(ts[::100], compute_tamsd([traj[6]], stride=100), '--', label = 'TAMSD example particle', color = 'red')\n",
    "_ = plt.plot(ts, 6*D*ts, ':', label = 'theory')\n",
    "_ = plt.xlabel('Time (ps)')\n",
    "_ = plt.ylabel('MSD (nm$^2$)')\n",
    "_ = plt.legend()"
   ]
  },
  {
   "cell_type": "markdown",
   "id": "c3096e25",
   "metadata": {},
   "source": [
    "Due to the fact that particles starting at random positions have enough time to reach the edges of the box, periodic boundary conditions introduce artifcts in MSD, which you can see as spooky jumps in the plot. This is because particle exitting the box from one side, enters from the opposite side, which is perceived as extremely large displacement ($\\mathrm{MSD} \\approx L^2$). To correct for that, unwrapping of the trajectory is necessary. This procedure consists in translating the positions of particle to their position as if the boundaries were not present. You can understand the idea behind this procedure by inspecting the code below."
   ]
  },
  {
   "cell_type": "markdown",
   "id": "a543541e",
   "metadata": {},
   "source": [
    "```\n",
    "for j in range(len(traj)-1):\n",
    "    for k in range(3):\n",
    "        if traj[j+1][k]-traj[j][k] > box_length/2:\n",
    "            traj[j+1:,k] -= box_length \n",
    "        if traj[j+1][k]-traj[j][k] < -box_length/2:\n",
    "            traj[j+1:,k] += box_length \n",
    "```"
   ]
  },
  {
   "cell_type": "markdown",
   "id": "b7af1c02",
   "metadata": {},
   "source": [
    "This idea is implemented in the MSD-computing functions used below."
   ]
  },
  {
   "cell_type": "code",
   "execution_count": null,
   "id": "338df6bd",
   "metadata": {},
   "outputs": [],
   "source": [
    "msd_pbc_all = compute_msd_pbc(traj, box_length)\n",
    "tamsd_pbc_all = compute_tamsd_pbc(traj, box_length, stride=100)"
   ]
  },
  {
   "cell_type": "code",
   "execution_count": null,
   "id": "c1cd6604",
   "metadata": {},
   "outputs": [],
   "source": [
    "_ = plt.close()\n",
    "_ = plt.title('N={}'.format(num_particles))\n",
    "_ = plt.plot(ts, msd_pbc_all, '-', label = 'MDS all particles', color = 'black')\n",
    "_ = plt.plot(ts[::100], tamsd_pbc_all, '-', label = 'TAMSD all particles', color = 'red')\n",
    "_ = plt.plot(ts, 6*D*ts, ':', label = 'theory')\n",
    "_ = plt.xlabel('Time (ps)')\n",
    "_ = plt.ylabel('MSD (nm$^2$)')\n",
    "_ = plt.legend()"
   ]
  },
  {
   "cell_type": "markdown",
   "id": "ab740da8",
   "metadata": {},
   "source": [
    "# Beyond Brownian motion"
   ]
  },
  {
   "cell_type": "markdown",
   "id": "5daa8f83",
   "metadata": {},
   "source": [
    "The classical description of Brownian motion provided by Einstein, Sutherland, Smoluchowski, and Langevin explains the motion of dilute particles suspended in simple, homogeneous fluids. However, there are physical systems driven by random forces, in which the tracked particle’s MSD is not a linear function of time. Example of such behavior is mRNA in *Escherichia coli* cytoplasm [Golding, I., & Cox, E. C. (2006). Physical nature of bacterial cytoplasm. Physical Review Letters, 96(9), 098102]. If MSD follows a generalized power law expression ($\\mathrm{MSD}(t)=2dDt^\\alpha$), we call this phenomenon an **anomalous diffusion**.\n",
    "\n",
    "There are various physical mechanisms responsible for the emergence of anomalous diffusion, among others, active transport of particles by motor proteins ($\\alpha>1$), binding to immobile traps ($\\alpha<1$), and viscoelastic properties of the medium ($\\alpha<1$). The overall behavior of MSD may be even more complex and impossible to express by a single power law, like in case of diffusion under macromolecular crowding."
   ]
  },
  {
   "cell_type": "code",
   "execution_count": null,
   "id": "3e1d3727",
   "metadata": {},
   "outputs": [],
   "source": [
    "plt.close()\n",
    "n_steps = 500\n",
    "n_traj = 200\n",
    "stride = 10\n",
    "from andi_datasets.datasets_theory import datasets_theory\n",
    "AD = datasets_theory()\n",
    "# AD.avail_models_name\n",
    "dataset_subdiffusion = AD.create_dataset(T = n_steps, N_models = n_traj, exponents = [0.7], models = [2], dimension = 3)\n",
    "dataset_diffusion = AD.create_dataset(T = n_steps, N_models = n_traj, exponents = [1.5], models = [2], dimension = 3)\n",
    "dataset_superdiffusion = AD.create_dataset(T = n_steps, N_models = n_traj, exponents = [1.0], models = [2], dimension = 3)\n",
    "\n",
    "def get_trajectories(dataset, n_steps):\n",
    "    trajs_synth = []\n",
    "    for j in range(len(dataset)):\n",
    "        x = dataset[j][2:2+n_steps]\n",
    "        y = dataset[j][2+n_steps:2+2*n_steps]\n",
    "        z = dataset[j][2+2*n_steps:]\n",
    "        traj_synth = np.transpose([x,y,z])\n",
    "        trajs_synth.append(traj_synth)\n",
    "    return np.array(trajs_synth)\n",
    "\n",
    "trajs_subdiffusion = get_trajectories(dataset_subdiffusion, n_steps)\n",
    "trajs_diffusion = get_trajectories(dataset_diffusion, n_steps)\n",
    "trajs_superdiffusion = get_trajectories(dataset_superdiffusion, n_steps)"
   ]
  },
  {
   "cell_type": "code",
   "execution_count": null,
   "id": "802c83be",
   "metadata": {},
   "outputs": [],
   "source": [
    "vis(np.array(trajs_subdiffusion)[:,::10,:]+box_length/2, 10, box_length)"
   ]
  },
  {
   "cell_type": "code",
   "execution_count": null,
   "id": "4716bdfb",
   "metadata": {},
   "outputs": [],
   "source": [
    "tamsd_subdiffusion = compute_tamsd(trajs_subdiffusion, stride=stride)\n",
    "tamsd_diffusion = compute_tamsd(trajs_diffusion, stride=stride)\n",
    "tamsd_superdiffusion = compute_tamsd(trajs_superdiffusion, stride=stride)\n",
    "\n",
    "ts = np.arange(0,n_steps,stride)"
   ]
  },
  {
   "cell_type": "code",
   "execution_count": null,
   "id": "718651e6",
   "metadata": {},
   "outputs": [],
   "source": [
    "_ = plt.close()\n",
    "_ = plt.plot(ts, tamsd_subdiffusion, color = 'blue', label = r'subdiffusion, $\\alpha=0.7$')\n",
    "_ = plt.plot(ts, tamsd_diffusion, color = 'black', label = r'diffusion, $\\alpha=1$')\n",
    "_ = plt.plot(ts, tamsd_superdiffusion, color = 'red', label = r'superdiffusion, $\\alpha=1.5$')\n",
    "\n",
    "_ = plt.xlabel('Time (ps)')\n",
    "_ = plt.ylabel('MSD (nm$^2$)')\n",
    "_ = plt.legend()\n",
    "\n",
    "from scipy.optimize import curve_fit\n",
    "anom = lambda t,D,alpha: 6*D*t**alpha\n",
    "coeff = curve_fit(anom, ts, tamsd_subdiffusion)[0]\n",
    "print('Fitting model to data\\nD={}nm^2/ps^alpha; alpha={}'.format(*coeff))"
   ]
  },
  {
   "cell_type": "markdown",
   "id": "fa8c97a4",
   "metadata": {},
   "source": [
    "In log-log representation, all curves following the single power law reduce to lines with a slope equal to $\\alpha$."
   ]
  },
  {
   "cell_type": "markdown",
   "id": "eba5f2a2",
   "metadata": {},
   "source": [
    "$$\\mathrm{MSD}(t) = 6Dt^\\alpha$$\n",
    "$$\\log(\\mathrm{MSD}(t)) = \\log(6Dt^\\alpha) = \\log(6D)+\\alpha \\log t$$"
   ]
  },
  {
   "cell_type": "code",
   "execution_count": null,
   "id": "95cdf9d5",
   "metadata": {},
   "outputs": [],
   "source": [
    "_ = plt.close()\n",
    "_ = plt.plot(ts, tamsd_subdiffusion, color = 'blue', label = r'subdiffusion, $\\alpha=0.7$')\n",
    "_ = plt.plot(ts, tamsd_diffusion, color = 'black', label = r'diffusion, $\\alpha=1$')\n",
    "_ = plt.plot(ts, tamsd_superdiffusion, color = 'red', label = r'superdiffusion, $\\alpha=1.5$')\n",
    "\n",
    "_ = plt.xlabel('Time (ps)')\n",
    "_ = plt.ylabel('MSD (nm$^2$)')\n",
    "\n",
    "_ = plt.xscale('log')\n",
    "_ = plt.yscale('log')\n",
    "_ = plt.legend()"
   ]
  },
  {
   "cell_type": "markdown",
   "id": "cdb90622",
   "metadata": {},
   "source": [
    "# References"
   ]
  },
  {
   "cell_type": "markdown",
   "id": "9a25a20b",
   "metadata": {},
   "source": [
    "1. Berg, H. C. (1993). Random walks in biology. Princeton University Press."
   ]
  },
  {
   "cell_type": "markdown",
   "id": "e530539c",
   "metadata": {},
   "source": [
    "2. Van Kampen, N. G. (1992). Stochastic Processes in Physics and Chemistry. North-Holland Publishing Co."
   ]
  },
  {
   "cell_type": "markdown",
   "id": "9309f001",
   "metadata": {},
   "source": [
    "3. Rehfeldt, F., & Weiss, M. (2023). The random walker's toolbox for analyzing single-particle tracking data. Soft Matter."
   ]
  },
  {
   "cell_type": "markdown",
   "id": "7880bfb2",
   "metadata": {},
   "source": [
    "4. Skóra, T. Diffusion and reactions under crowding: Theory and simulations. PhD Thesis (2023) https://tskora.github.io/publication/2023-01-01-Thesis"
   ]
  },
  {
   "cell_type": "markdown",
   "id": "9a6e73e6",
   "metadata": {},
   "source": [
    "5. Kondrat, S. (2018). Physics and modelling of intracellular diffusion. arXiv preprint arXiv:1810.05496. https://arxiv.org/abs/1810.05496"
   ]
  }
 ],
 "metadata": {
  "kernelspec": {
   "display_name": "Python 3 (ipykernel)",
   "language": "python",
   "name": "python3"
  },
  "language_info": {
   "codemirror_mode": {
    "name": "ipython",
    "version": 3
   },
   "file_extension": ".py",
   "mimetype": "text/x-python",
   "name": "python",
   "nbconvert_exporter": "python",
   "pygments_lexer": "ipython3",
   "version": "3.9.13"
  }
 },
 "nbformat": 4,
 "nbformat_minor": 5
}
